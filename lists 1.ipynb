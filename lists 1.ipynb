{
  "cells": [
    {
      "cell_type": "markdown",
      "metadata": {
        "id": "Mxypr15V3U7e"
      },
      "source": [
        "1.Are lists mutable or immutable, explain with an example"
      ]
    },
    {
      "cell_type": "code",
      "execution_count": 8,
      "metadata": {
        "id": "c_aTKXsT3p0P"
      },
      "outputs": [
        {
          "name": "stdout",
          "output_type": "stream",
          "text": [
            "[1, 2, 3, 4, 7]\n"
          ]
        }
      ],
      "source": [
        "a=[1,2,4,3,7]\n",
        "a[2]=3\n",
        "a[3]=4\n",
        "print(a)"
      ]
    },
    {
      "cell_type": "markdown",
      "metadata": {
        "id": "Jd2G4J_c3tm7"
      },
      "source": []
    },
    {
      "cell_type": "markdown",
      "metadata": {
        "id": "uPYH4kpZ3U97"
      },
      "source": [
        "2.Take any example of list on your own and perform atleast 5 list operations on that"
      ]
    },
    {
      "cell_type": "code",
      "execution_count": 11,
      "metadata": {
        "id": "vSxe0pwG36ME"
      },
      "outputs": [
        {
          "name": "stdout",
          "output_type": "stream",
          "text": [
            "5\n",
            "[5, 4, 3, 2, 1]\n",
            "[5, 4, 3, 2, 1, 6]\n",
            "[5, 4, 3, 2, 1, 6, 7, 8]\n",
            "[1, 2, 3, 4, 5, 6, 7, 8]\n"
          ]
        }
      ],
      "source": [
        "a=[1,2,3,4,5]\n",
        "print(len(a))\n",
        "a.sort(reverse=True)\n",
        "print(a)\n",
        "a.append(6)\n",
        "print(a)\n",
        "a.extend([7,8])\n",
        "print(a)\n",
        "print(sorted(a))"
      ]
    },
    {
      "cell_type": "markdown",
      "metadata": {
        "id": "1aSo9eEU3VAT"
      },
      "source": [
        "3.Create a new list containing only the even numbers from the original list.\n",
        "\n",
        "original list ;[1,2,2,4,5,6,7,12,3,456,78,67,89,90]"
      ]
    },
    {
      "cell_type": "code",
      "execution_count": 12,
      "metadata": {
        "id": "e-_3vMX54Upe"
      },
      "outputs": [
        {
          "name": "stdout",
          "output_type": "stream",
          "text": [
            "[2, 2, 4, 6, 12, 456, 78, 90]\n"
          ]
        }
      ],
      "source": [
        "a=[1,2,2,4,5,6,7,12,3,456,78,67,89,90]\n",
        "b=[]\n",
        "for i in a:\n",
        "    if i%2==0:\n",
        "        b.append(i)\n",
        "print(b)"
      ]
    },
    {
      "cell_type": "markdown",
      "metadata": {
        "id": "y1b95q7k3VCz"
      },
      "source": [
        "4.Create a new list with the squares of each element in the original list.\n",
        "\n",
        "original list : [3,5,6,8,2,45]"
      ]
    },
    {
      "cell_type": "code",
      "execution_count": 13,
      "metadata": {
        "id": "97M5xax24jM4"
      },
      "outputs": [
        {
          "name": "stdout",
          "output_type": "stream",
          "text": [
            "[9, 25, 36, 64, 4, 16, 25]\n"
          ]
        }
      ],
      "source": [
        "a=[3,5,6,8,2,4,5]\n",
        "b=[i*i for i in a]\n",
        "print(b)"
      ]
    },
    {
      "cell_type": "markdown",
      "metadata": {
        "id": "pzrQ5WBZ3VFQ"
      },
      "source": [
        "5.Check if all elements in the list are positive and return all the positive elements in a new list.\n",
        "\n",
        "input ; [12,23,4,56,77,-89,7,90,90,-87,-99]"
      ]
    },
    {
      "cell_type": "code",
      "execution_count": 14,
      "metadata": {
        "id": "8x0148io5FcT"
      },
      "outputs": [
        {
          "name": "stdout",
          "output_type": "stream",
          "text": [
            "All are not positive\n",
            "[12, 23, 4, 56, 77, 7, 90, 90]\n"
          ]
        }
      ],
      "source": [
        "a=[12,23,4,56,77,-89,7,90,90,-87,-99]\n",
        "b=[]\n",
        "for i in a:\n",
        "    if i>=0:\n",
        "        b.append(i)\n",
        "if len(b)!=len(a):\n",
        "    print(\"All are not positive\")\n",
        "print(b)"
      ]
    }
  ],
  "metadata": {
    "colab": {
      "provenance": []
    },
    "kernelspec": {
      "display_name": "base",
      "language": "python",
      "name": "python3"
    },
    "language_info": {
      "codemirror_mode": {
        "name": "ipython",
        "version": 3
      },
      "file_extension": ".py",
      "mimetype": "text/x-python",
      "name": "python",
      "nbconvert_exporter": "python",
      "pygments_lexer": "ipython3",
      "version": "3.12.7"
    }
  },
  "nbformat": 4,
  "nbformat_minor": 0
}
