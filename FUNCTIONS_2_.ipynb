{
  "cells": [
    {
      "cell_type": "markdown",
      "metadata": {
        "id": "iW-mnZaZRsWX"
      },
      "source": [
        "*** USE THE CONCEPT OF FUNCTIONS TO SOLVE THE BELOW PROGRAMMING QUESTIONS ***"
      ]
    },
    {
      "cell_type": "markdown",
      "metadata": {
        "id": "gZjDc6eiRsYf"
      },
      "source": [
        "1) Write a Python function that accepts a string and counts the number of upper and lower case letters.\n",
        "\n",
        "Sample String : 'The quick Brow Fox'\n",
        "\n",
        "Expected Output :\n",
        "\n",
        "No. of Upper case characters : 3\n",
        "\n",
        "No. of Lower case Characters : 12"
      ]
    },
    {
      "cell_type": "code",
      "execution_count": 1,
      "metadata": {
        "id": "wGtk-weiR-5t"
      },
      "outputs": [
        {
          "name": "stdout",
          "output_type": "stream",
          "text": [
            "No. of Upper case characters:  3\n",
            "No. of Lower case Characters:  12\n"
          ]
        }
      ],
      "source": [
        "#WRITE YOUR CODE HERE\n",
        "def count(text):\n",
        "    upper=0\n",
        "    lower=0\n",
        "    for i in text:\n",
        "        if i.isupper():\n",
        "            upper+=1\n",
        "        elif i.islower():\n",
        "            lower+=1\n",
        "    return upper,lower\n",
        "text=input()\n",
        "a,b=count(text)\n",
        "print(\"No. of Upper case characters: \",a)\n",
        "print(\"No. of Lower case Characters: \",b)"
      ]
    },
    {
      "cell_type": "markdown",
      "metadata": {
        "id": "bmt7_PqqRsaw"
      },
      "source": [
        "2) Write a Python function that takes a list and returns a new list with distinct elements from the first list.\n",
        "\n",
        "Sample List : [1,2,3,3,3,3,4,5]\n",
        "\n",
        "Unique List : [1, 2, 3, 4, 5]"
      ]
    },
    {
      "cell_type": "code",
      "execution_count": 3,
      "metadata": {
        "id": "Za2S_kbzSQJZ"
      },
      "outputs": [
        {
          "name": "stdout",
          "output_type": "stream",
          "text": [
            "[1, 2, 3, 4, 5]\n"
          ]
        }
      ],
      "source": [
        "#WRITE YOUR CODE HERE\n",
        "def unique(l):\n",
        "    b=set(l)\n",
        "    new=list(b)\n",
        "    return new\n",
        "sample=list(map(int,input().split(\" \")))\n",
        "print(unique(sample))\n"
      ]
    },
    {
      "cell_type": "markdown",
      "metadata": {
        "id": "adx-jfbnRsdC"
      },
      "source": [
        "3) Write a Python function that takes a number as a parameter and checks whether the number is prime or not.\n",
        "\n",
        "Note : A prime number (or a prime) is a natural number greater than 1 and that has no positive divisors other than 1 and itself."
      ]
    },
    {
      "cell_type": "code",
      "execution_count": 6,
      "metadata": {
        "id": "RaBolJpSSa4N"
      },
      "outputs": [
        {
          "name": "stdout",
          "output_type": "stream",
          "text": [
            "Numbe should be positive and greater than 1\n"
          ]
        }
      ],
      "source": [
        "#WRITE YOUR CODE HERE\n",
        "from math import *\n",
        "def prime(n):\n",
        "    if n==1:\n",
        "        print(\"Neither prime nor composite\")\n",
        "    elif n>1:\n",
        "        c=0\n",
        "        for i in range(2,int(sqrt(n))+1):\n",
        "            if n%i==0:\n",
        "                c=1\n",
        "                break\n",
        "        if c==0:\n",
        "            print(\"Prime\")\n",
        "        else:\n",
        "            print(\"Composite\")\n",
        "    else:\n",
        "        print(\"Numbe should be positive and greater than 1\")\n",
        "num=int(input())\n",
        "prime(num)"
      ]
    },
    {
      "cell_type": "markdown",
      "metadata": {
        "id": "P2i2bBwIRsfQ"
      },
      "source": [
        "4)Write a Python program to print the even numbers from a given list.\n",
        "\n",
        "Sample List : [1, 2, 3, 4, 5, 6, 7, 8, 9]\n",
        "\n",
        "Expected Result : [2, 4, 6, 8]\n"
      ]
    },
    {
      "cell_type": "code",
      "execution_count": 7,
      "metadata": {
        "id": "32Rk_UCp_pAT"
      },
      "outputs": [
        {
          "name": "stdout",
          "output_type": "stream",
          "text": [
            "[2, 4, 6, 8]\n"
          ]
        }
      ],
      "source": [
        "# WRITE YOUR CODE HERE\n",
        "def even(a):\n",
        "    b=[]\n",
        "    for i in a:\n",
        "        if i%2==0:\n",
        "            b.append(i)\n",
        "    return b\n",
        "a=list(map(int,input().split(\" \")))\n",
        "print(even(a))"
      ]
    },
    {
      "cell_type": "markdown",
      "metadata": {
        "id": "kaTTpignRsh7"
      },
      "source": [
        "5) Write a Python function to check whether a string is a pangram or not.\n",
        "\n",
        "Note : Pangrams are words or sentences containing every letter of the alphabet at least once.\n",
        "\n",
        "For example : \"The quick brown fox jumps over the lazy dog\""
      ]
    },
    {
      "cell_type": "code",
      "execution_count": 11,
      "metadata": {
        "id": "EHEntu3P_5s8"
      },
      "outputs": [
        {
          "name": "stdout",
          "output_type": "stream",
          "text": [
            "Not a Pangram\n"
          ]
        }
      ],
      "source": [
        "# WRITE YOUR CODE HERE\n",
        "def pangram(text):\n",
        "    a=[0]*26\n",
        "    for i in text:\n",
        "        if i==\" \":\n",
        "            continue \n",
        "        else:\n",
        "            x=ord(i.lower())-97\n",
        "            if a[x]==0:\n",
        "                a[x]=1\n",
        "    if sum(a)==26:\n",
        "        print(\"Pangram\")\n",
        "    else:\n",
        "        print(\"Not a Pangram\")\n",
        "text=input()\n",
        "pangram(text)"
      ]
    },
    {
      "cell_type": "markdown",
      "metadata": {
        "id": "3InqavJfRslk"
      },
      "source": []
    },
    {
      "cell_type": "markdown",
      "metadata": {},
      "source": []
    }
  ],
  "metadata": {
    "colab": {
      "provenance": []
    },
    "kernelspec": {
      "display_name": "Python 3",
      "name": "python3"
    },
    "language_info": {
      "codemirror_mode": {
        "name": "ipython",
        "version": 3
      },
      "file_extension": ".py",
      "mimetype": "text/x-python",
      "name": "python",
      "nbconvert_exporter": "python",
      "pygments_lexer": "ipython3",
      "version": "3.11.1"
    }
  },
  "nbformat": 4,
  "nbformat_minor": 0
}
