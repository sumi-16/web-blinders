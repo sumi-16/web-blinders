{
  "cells": [
    {
      "cell_type": "markdown",
      "metadata": {
        "id": "EPGLodluvWuN"
      },
      "source": [
        "## Strings Assignment 2"
      ]
    },
    {
      "cell_type": "markdown",
      "metadata": {
        "id": "ddM5gMtivkoi"
      },
      "source": [
        "1.Write a Python program to reverse a string.\n",
        "\n",
        "input : hellohowareyoudoingandhowisyourhealth"
      ]
    },
    {
      "cell_type": "code",
      "execution_count": 1,
      "metadata": {
        "id": "RnP576ZZvtLH"
      },
      "outputs": [
        {
          "data": {
            "text/plain": [
              "'htlaehruoysiwuohdnagnioduoyerawoholleh'"
            ]
          },
          "execution_count": 1,
          "metadata": {},
          "output_type": "execute_result"
        }
      ],
      "source": [
        "a=\"hellohowareyoudoingandhouwisyourhealth\" \n",
        "a[::-1]"
      ]
    },
    {
      "cell_type": "markdown",
      "metadata": {
        "id": "jEVFoo3evnhr"
      },
      "source": [
        "2.Write a Python program to capitalize the first letter of each word in a sentence.\n",
        "\n",
        "input : hello welcome to internship"
      ]
    },
    {
      "cell_type": "code",
      "execution_count": 2,
      "metadata": {
        "id": "CTP3QwiGwT93"
      },
      "outputs": [
        {
          "data": {
            "text/plain": [
              "'Hello Welcome To Internship'"
            ]
          },
          "execution_count": 2,
          "metadata": {},
          "output_type": "execute_result"
        }
      ],
      "source": [
        "a=\"hello welcome to internship\"\n",
        "a.title()"
      ]
    },
    {
      "cell_type": "markdown",
      "metadata": {
        "id": "LiGvyCoVvnyC"
      },
      "source": [
        "3.Write a Python program to find the longest word in a sentence.\n",
        "\n",
        "input : \"he is very good at painting and paint good sketches\""
      ]
    },
    {
      "cell_type": "code",
      "execution_count": 3,
      "metadata": {
        "id": "clATuC3cwwPI"
      },
      "outputs": [
        {
          "name": "stdout",
          "output_type": "stream",
          "text": [
            "8\n"
          ]
        }
      ],
      "source": [
        "a=\"he is very good at painting and paint good sketches\"\n",
        "b=a.split(\" \")\n",
        "maxi=0\n",
        "for i in b:\n",
        "    maxi=max(maxi,len(i))\n",
        "print(maxi)"
      ]
    },
    {
      "cell_type": "markdown",
      "metadata": {
        "id": "-QhCplQjvn0w"
      },
      "source": [
        "4.Write a Python program to find the length of the last word in a sentence.\n",
        "\n",
        "input : this is the most beautiful beach I ever visited"
      ]
    },
    {
      "cell_type": "code",
      "execution_count": 4,
      "metadata": {
        "id": "QwzbahlkxGZ-"
      },
      "outputs": [
        {
          "data": {
            "text/plain": [
              "7"
            ]
          },
          "execution_count": 4,
          "metadata": {},
          "output_type": "execute_result"
        }
      ],
      "source": [
        "a=\"this is the most beautiful beach I ever visited\"\n",
        "b=a.split(\" \")\n",
        "len(b[-1])"
      ]
    },
    {
      "cell_type": "markdown",
      "metadata": {
        "id": "cZiXxZhsvn6q"
      },
      "source": [
        "5.Write a Python program to find the second most frequent character in a string.\n",
        "\n",
        "input: the hospital is very big and this hospital has so many doctors"
      ]
    },
    {
      "cell_type": "code",
      "execution_count": 5,
      "metadata": {
        "id": "EnHquuoCxi7F"
      },
      "outputs": [
        {
          "name": "stdout",
          "output_type": "stream",
          "text": [
            "a\n"
          ]
        }
      ],
      "source": [
        "a=\"the hospital is very big and this hospital has so many doctors\"\n",
        "\n",
        "b=[0]*26\n",
        "for i in a:\n",
        "    if(i!=\" \"):\n",
        "        c=ord(i)-97\n",
        "        b[c]+=1\n",
        "i=0\n",
        "j=0\n",
        "mi=b[0]\n",
        "mj=b[0]\n",
        "for k in range(1,26):\n",
        "    if b[k]>mi:\n",
        "        mj=mi\n",
        "        j=i \n",
        "        mi=b[k]\n",
        "        i=k \n",
        "    elif b[k]>mj and b[k]<mi:\n",
        "        mj=b[k]\n",
        "        j=k \n",
        "\n",
        "print(chr(j+97))"
      ]
    }
  ],
  "metadata": {
    "colab": {
      "provenance": [],
      "toc_visible": true
    },
    "kernelspec": {
      "display_name": "base",
      "language": "python",
      "name": "python3"
    },
    "language_info": {
      "codemirror_mode": {
        "name": "ipython",
        "version": 3
      },
      "file_extension": ".py",
      "mimetype": "text/x-python",
      "name": "python",
      "nbconvert_exporter": "python",
      "pygments_lexer": "ipython3",
      "version": "3.12.7"
    }
  },
  "nbformat": 4,
  "nbformat_minor": 0
}
