{
  "cells": [
    {
      "cell_type": "markdown",
      "metadata": {
        "id": "-j3jwvf4Nex8"
      },
      "source": [
        "** USE THE CONCEPT OF LOOP TO SOLVE TEHE BELOW QUIRIES **"
      ]
    },
    {
      "cell_type": "markdown",
      "metadata": {
        "id": "e5fJbKobMfrV"
      },
      "source": [
        "  1) Print the first 10 natural numbers using for loop."
      ]
    },
    {
      "cell_type": "code",
      "execution_count": 1,
      "metadata": {
        "id": "dvVRbCfHMiM2"
      },
      "outputs": [],
      "source": [
        "#Write your code here"
      ]
    },
    {
      "cell_type": "code",
      "execution_count": 2,
      "metadata": {
        "id": "rEg4ZVZiM1nb"
      },
      "outputs": [
        {
          "name": "stdout",
          "output_type": "stream",
          "text": [
            "1 2 3 4 5 6 7 8 9 10 "
          ]
        }
      ],
      "source": [
        "for i in range(1,11):\n",
        "    print(i,end=\" \")"
      ]
    },
    {
      "cell_type": "markdown",
      "metadata": {
        "id": "z6Z_rllrM3EW"
      },
      "source": [
        "2) Python program to print all the even numbers within the given range.\n",
        "\n",
        "Range = 0 to 100"
      ]
    },
    {
      "cell_type": "code",
      "execution_count": 3,
      "metadata": {
        "id": "iu86kKj8MwAr"
      },
      "outputs": [
        {
          "name": "stdout",
          "output_type": "stream",
          "text": [
            "0 2 4 6 8 10 12 14 16 18 20 22 24 26 28 30 32 34 36 38 40 42 44 46 48 50 52 54 56 58 60 62 64 66 68 70 72 74 76 78 80 82 84 86 88 90 92 94 96 98 100 "
          ]
        }
      ],
      "source": [
        "#Write your code Here\n",
        "for i in range(0,101,2):\n",
        "    print(i,end=\" \")"
      ]
    },
    {
      "cell_type": "markdown",
      "metadata": {
        "id": "8d-LECSINC6s"
      },
      "source": [
        "3) Python program to calculate the sum of all numbers from 1 to a given number.\n",
        "\n",
        "Given Range = 15"
      ]
    },
    {
      "cell_type": "code",
      "execution_count": 7,
      "metadata": {
        "id": "bBd7nbLLNSoA"
      },
      "outputs": [
        {
          "name": "stdout",
          "output_type": "stream",
          "text": [
            "10\n"
          ]
        }
      ],
      "source": [
        "#Write your Code Here \n",
        "n=int(input())\n",
        "sum=0\n",
        "for i in range(1,n+1):\n",
        "    sum+=i \n",
        "print(sum)"
      ]
    },
    {
      "cell_type": "markdown",
      "metadata": {
        "id": "nKJA-USXNRsk"
      },
      "source": [
        "4) Python program to calculate the sum of all the odd numbers within the given range.\n",
        "\n",
        "Given Range = 10"
      ]
    },
    {
      "cell_type": "code",
      "execution_count": 5,
      "metadata": {
        "id": "Q520Z2gXNwMV"
      },
      "outputs": [
        {
          "name": "stdout",
          "output_type": "stream",
          "text": [
            "4\n"
          ]
        }
      ],
      "source": [
        "# Write your code Here\n",
        "n=int(input())\n",
        "sum=0\n",
        "for i in range(n+1):\n",
        "    if i%2!=0:\n",
        "        sum+=i \n",
        "print(sum)"
      ]
    },
    {
      "cell_type": "markdown",
      "metadata": {
        "id": "uTwmyMFiNEM8"
      },
      "source": [
        "5) Python program to print a multiplication table of a given number\n",
        "\n",
        "given number = 5"
      ]
    },
    {
      "cell_type": "code",
      "execution_count": 6,
      "metadata": {
        "id": "ZlLy8g2kN6F7"
      },
      "outputs": [
        {
          "name": "stdout",
          "output_type": "stream",
          "text": [
            "5*1=5\n",
            "5*2=10\n",
            "5*3=15\n",
            "5*4=20\n",
            "5*5=25\n",
            "5*6=30\n",
            "5*7=35\n",
            "5*8=40\n",
            "5*9=45\n",
            "5*10=50\n"
          ]
        }
      ],
      "source": [
        "# Write your code here\n",
        "for i in range(1,11):\n",
        "    print(\"5*{}={}\".format(i,5*i))"
      ]
    },
    {
      "cell_type": "code",
      "execution_count": null,
      "metadata": {},
      "outputs": [],
      "source": []
    }
  ],
  "metadata": {
    "colab": {
      "provenance": []
    },
    "kernelspec": {
      "display_name": "Python 3",
      "name": "python3"
    },
    "language_info": {
      "codemirror_mode": {
        "name": "ipython",
        "version": 3
      },
      "file_extension": ".py",
      "mimetype": "text/x-python",
      "name": "python",
      "nbconvert_exporter": "python",
      "pygments_lexer": "ipython3",
      "version": "3.11.1"
    }
  },
  "nbformat": 4,
  "nbformat_minor": 0
}
