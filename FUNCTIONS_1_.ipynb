{
  "cells": [
    {
      "cell_type": "markdown",
      "metadata": {
        "id": "Rg2ZBqGAQwAf"
      },
      "source": [
        "*** USE THE CONCEPT OF FUNCTIONS TO SOLVE THE BELOW PROGRAMMING QUESTIONS ***"
      ]
    },
    {
      "cell_type": "markdown",
      "metadata": {
        "id": "ScHTvbE1QwCo"
      },
      "source": [
        "1) Write a Python function to sum all the numbers in a list.\n",
        "\n",
        "Sample List : (8, 2, 3, 0, 7)\n",
        "\n",
        "Expected Output : 20\n"
      ]
    },
    {
      "cell_type": "code",
      "execution_count": 1,
      "metadata": {
        "id": "aR_k4uReQ8Og"
      },
      "outputs": [
        {
          "name": "stdout",
          "output_type": "stream",
          "text": [
            "sum of numbers in the list is  20\n"
          ]
        }
      ],
      "source": [
        "#WRITE YOUR CODE HERE\n",
        "def sum(a):\n",
        "    x=0\n",
        "    for i in a:\n",
        "        x+=i \n",
        "    return x\n",
        "a=list(map(int,input().split(\" \")))\n",
        "print(\"sum of numbers in the list is \",sum(a))"
      ]
    },
    {
      "cell_type": "markdown",
      "metadata": {
        "id": "dZtcDLjAQwE-"
      },
      "source": [
        "2) Write a Python function to multiply all the numbers in a list.\n",
        "\n",
        "Sample List : (8, 2, 3, -1, 7)\n",
        "\n",
        "Expected Output : -336"
      ]
    },
    {
      "cell_type": "code",
      "execution_count": 2,
      "metadata": {
        "id": "98uwoSPnRHyL"
      },
      "outputs": [
        {
          "name": "stdout",
          "output_type": "stream",
          "text": [
            "Product of the numbers in the list:  -336\n"
          ]
        }
      ],
      "source": [
        "#WRITE YOUR CODE HERE\n",
        "def multiply(a):\n",
        "    mul=1\n",
        "    for i in a:\n",
        "        mul*=i \n",
        "    return mul\n",
        "a=list(map(int,input().split(\" \")))\n",
        "print(\"Product of the numbers in the list: \",multiply(a))"
      ]
    },
    {
      "cell_type": "markdown",
      "metadata": {
        "id": "99G7rde1QwHN"
      },
      "source": [
        "3) Write a Python program to reverse a string.\n",
        "\n",
        "Sample String : \"1234abcd\"\n",
        "\n",
        "Expected Output : \"dcba4321\""
      ]
    },
    {
      "cell_type": "code",
      "execution_count": 4,
      "metadata": {
        "id": "6qmLELFCRQAD"
      },
      "outputs": [
        {
          "name": "stdout",
          "output_type": "stream",
          "text": [
            "dcba4321\n"
          ]
        }
      ],
      "source": [
        "#WRITE YOUR CODE HERE\n",
        "text=input()\n",
        "rev=\"\"\n",
        "for i in range(len(text)-1,-1,-1):\n",
        "    rev+=text[i]\n",
        "print(rev)"
      ]
    },
    {
      "cell_type": "markdown",
      "metadata": {
        "id": "_XE8as7eQwJn"
      },
      "source": [
        "4) Write a Python function to calculate the factorial of a number (a non-negative integer). The function accepts the number as an argument."
      ]
    },
    {
      "cell_type": "code",
      "execution_count": 5,
      "metadata": {
        "id": "Di5n5kNARZdn"
      },
      "outputs": [
        {
          "name": "stdout",
          "output_type": "stream",
          "text": [
            "Factorial of the number 4 is 24\n"
          ]
        }
      ],
      "source": [
        "#WRITE YOUR CODE HERE\n",
        "def fact(n):\n",
        "    prod=1\n",
        "    for i in range(2,n+1):\n",
        "        prod*=i\n",
        "    return prod\n",
        "num=int(input())\n",
        "print(\"Factorial of the number {} is {}\".format(num,fact(num)))"
      ]
    },
    {
      "cell_type": "markdown",
      "metadata": {
        "id": "I2zyMS7XQwLx"
      },
      "source": [
        "5) Write a Python function to check whether a number falls within a given range."
      ]
    },
    {
      "cell_type": "code",
      "execution_count": 7,
      "metadata": {
        "id": "rouydHDQRgcc"
      },
      "outputs": [
        {
          "name": "stdout",
          "output_type": "stream",
          "text": [
            "The given number is not in the range\n"
          ]
        }
      ],
      "source": [
        "#WRITE YOUR CODE HERE\n",
        "def check(a,b,n):\n",
        "    c=0\n",
        "    for i in range(a,b+1):\n",
        "        if n==i:\n",
        "            print(\"The given number is in the range\")\n",
        "            c=1\n",
        "            break\n",
        "    if c==0:\n",
        "        print(\"The given number is not in the range\")\n",
        "    return \n",
        "a=int(input())\n",
        "b=int(input())\n",
        "number=int(input())\n",
        "check(a,b,number)\n",
        "    "
      ]
    },
    {
      "cell_type": "code",
      "execution_count": null,
      "metadata": {},
      "outputs": [],
      "source": []
    }
  ],
  "metadata": {
    "colab": {
      "provenance": []
    },
    "kernelspec": {
      "display_name": "Python 3",
      "name": "python3"
    },
    "language_info": {
      "codemirror_mode": {
        "name": "ipython",
        "version": 3
      },
      "file_extension": ".py",
      "mimetype": "text/x-python",
      "name": "python",
      "nbconvert_exporter": "python",
      "pygments_lexer": "ipython3",
      "version": "3.11.1"
    }
  },
  "nbformat": 4,
  "nbformat_minor": 0
}
