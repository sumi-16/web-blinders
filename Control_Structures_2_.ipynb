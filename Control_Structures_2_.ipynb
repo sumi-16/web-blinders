{
  "cells": [
    {
      "cell_type": "markdown",
      "metadata": {
        "id": "LntIlHO5OfPf"
      },
      "source": [
        "*** USE THE CONCEPT OF LOOPS TO SOLVE THE BELOW PROGRAMS***"
      ]
    },
    {
      "cell_type": "markdown",
      "metadata": {
        "id": "vxHfbNtoOfRV"
      },
      "source": [
        "1) Python program to count the total number of digits in a number.\n",
        "\n",
        "TAKE THE INPUT NUMBER : 123456\n",
        "\n",
        "\n",
        "\n"
      ]
    },
    {
      "cell_type": "code",
      "execution_count": 1,
      "metadata": {
        "id": "_PKg5umLO2-q"
      },
      "outputs": [
        {
          "name": "stdout",
          "output_type": "stream",
          "text": [
            "21\n"
          ]
        }
      ],
      "source": [
        "#wRITE YOUR CODE HERE\n",
        "n=123456\n",
        "sum=0\n",
        "while(n!=0):\n",
        "    sum+=n%10\n",
        "    n=n//10\n",
        "print(sum)"
      ]
    },
    {
      "cell_type": "markdown",
      "metadata": {
        "id": "bXf8Z8feOfTn"
      },
      "source": [
        "2) Python program to count the number of even and odd numbers from a series of numbers.\n",
        "\n",
        "num_list = [1,3,5,6,99,134,55]"
      ]
    },
    {
      "cell_type": "code",
      "execution_count": 2,
      "metadata": {
        "id": "QzZjjwRCPIip"
      },
      "outputs": [
        {
          "name": "stdout",
          "output_type": "stream",
          "text": [
            "count of even numbers is 2 and count of odd numbers is 5\n"
          ]
        }
      ],
      "source": [
        "#WRITE YOUR CODE HERE\n",
        "num_list=[1,3,5,6,99,134,55]\n",
        "even=0\n",
        "odd=0\n",
        "for i in range(len(num_list)):\n",
        "    if num_list[i]%2==0:\n",
        "        even+=1\n",
        "    else:\n",
        "        odd+=1 \n",
        "print(\"count of even numbers is {} and count of odd numbers is {}\".format(even,odd))"
      ]
    },
    {
      "cell_type": "markdown",
      "metadata": {
        "id": "Ae6CdE7hOfWZ"
      },
      "source": [
        "3) Python program to get the Fibonacci series between 0 to 50."
      ]
    },
    {
      "cell_type": "code",
      "execution_count": 3,
      "metadata": {
        "id": "_IIZYCLPPTwI"
      },
      "outputs": [
        {
          "name": "stdout",
          "output_type": "stream",
          "text": [
            "0 1 1 2 3 5 8 13 21 34 "
          ]
        }
      ],
      "source": [
        "#WRITE YOUR CODE HERE\n",
        "a=0\n",
        "b=1\n",
        "print(\"0 1\",end=\" \")\n",
        "c=a+b \n",
        "while(c<=50):\n",
        "    print(c,end=\" \")\n",
        "    a=b\n",
        "    b=c\n",
        "    c=a+b \n"
      ]
    },
    {
      "cell_type": "markdown",
      "metadata": {
        "id": "VYbquVMROfZz"
      },
      "source": [
        "4) Python program that accepts a string and calculates the number of digits and letters.\n",
        "\n",
        "Input\n",
        "\n",
        "WEBBLINDERS1234"
      ]
    },
    {
      "cell_type": "code",
      "execution_count": 4,
      "metadata": {
        "id": "iGYeja7XPop3"
      },
      "outputs": [
        {
          "name": "stdout",
          "output_type": "stream",
          "text": [
            "4\n"
          ]
        }
      ],
      "source": [
        "#WRITE YOUR CODE HERE\n",
        "text=input()\n",
        "count=0\n",
        "for i in text:\n",
        "    if i=='1' or i=='2' or i=='3' or i=='4' or i=='5' or i=='6' or i=='7' or i=='8' or i=='9' or i=='0':\n",
        "        count+=1 \n",
        "print(count)"
      ]
    },
    {
      "cell_type": "markdown",
      "metadata": {
        "id": "RiVenPeDPqs_"
      },
      "source": [
        "5) Python program to display all numbers within a range except the prime numbers.\n",
        "\n",
        "INPUT RANGE : 30 TO 80"
      ]
    },
    {
      "cell_type": "code",
      "execution_count": 7,
      "metadata": {
        "id": "UTm21ayAPX02"
      },
      "outputs": [
        {
          "name": "stdout",
          "output_type": "stream",
          "text": [
            "31 37 41 43 47 53 59 61 67 71 73 79 "
          ]
        }
      ],
      "source": [
        "#WRITE YOUR CODE HERE\n",
        "from math import *\n",
        "a=int(input())\n",
        "b=int(input())\n",
        "for i in range(a,b+1):\n",
        "    c=1\n",
        "    for j in range(2,int(sqrt(i))+1):\n",
        "        if i%j==0:\n",
        "            c=0\n",
        "            break \n",
        "    if c==1:\n",
        "        print(i,end=' ')"
      ]
    },
    {
      "cell_type": "code",
      "execution_count": null,
      "metadata": {},
      "outputs": [],
      "source": []
    }
  ],
  "metadata": {
    "colab": {
      "provenance": []
    },
    "kernelspec": {
      "display_name": "Python 3",
      "name": "python3"
    },
    "language_info": {
      "codemirror_mode": {
        "name": "ipython",
        "version": 3
      },
      "file_extension": ".py",
      "mimetype": "text/x-python",
      "name": "python",
      "nbconvert_exporter": "python",
      "pygments_lexer": "ipython3",
      "version": "3.11.1"
    }
  },
  "nbformat": 4,
  "nbformat_minor": 0
}
