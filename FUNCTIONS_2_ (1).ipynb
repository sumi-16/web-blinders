{
  "nbformat": 4,
  "nbformat_minor": 0,
  "metadata": {
    "colab": {
      "provenance": []
    },
    "kernelspec": {
      "name": "python3",
      "display_name": "Python 3"
    },
    "language_info": {
      "name": "python"
    }
  },
  "cells": [
    {
      "cell_type": "markdown",
      "source": [
        "*** USE THE CONCEPT OF FUNCTIONS TO SOLVE THE BELOW PROGRAMMING QUESTIONS ***"
      ],
      "metadata": {
        "id": "iW-mnZaZRsWX"
      }
    },
    {
      "cell_type": "markdown",
      "source": [
        "1) Write a Python function that accepts a string and counts the number of upper and lower case letters.\n",
        "\n",
        "Sample String : 'The quick Brow Fox'\n",
        "\n",
        "Expected Output :\n",
        "\n",
        "No. of Upper case characters : 3\n",
        "\n",
        "No. of Lower case Characters : 12"
      ],
      "metadata": {
        "id": "gZjDc6eiRsYf"
      }
    },
    {
      "cell_type": "code",
      "source": [
        "#WRITE YOUR CODE HERE"
      ],
      "metadata": {
        "id": "wGtk-weiR-5t"
      },
      "execution_count": null,
      "outputs": []
    },
    {
      "cell_type": "markdown",
      "source": [
        "2) Write a Python function that takes a list and returns a new list with distinct elements from the first list.\n",
        "\n",
        "Sample List : [1,2,3,3,3,3,4,5]\n",
        "\n",
        "Unique List : [1, 2, 3, 4, 5]"
      ],
      "metadata": {
        "id": "bmt7_PqqRsaw"
      }
    },
    {
      "cell_type": "code",
      "source": [
        "#WRITE YOUR CODE HERE"
      ],
      "metadata": {
        "id": "Za2S_kbzSQJZ"
      },
      "execution_count": null,
      "outputs": []
    },
    {
      "cell_type": "markdown",
      "source": [
        "3) Write a Python function that takes a number as a parameter and checks whether the number is prime or not.\n",
        "\n",
        "Note : A prime number (or a prime) is a natural number greater than 1 and that has no positive divisors other than 1 and itself."
      ],
      "metadata": {
        "id": "adx-jfbnRsdC"
      }
    },
    {
      "cell_type": "code",
      "source": [
        "#WRITE YOUR CODE HERE"
      ],
      "metadata": {
        "id": "RaBolJpSSa4N"
      },
      "execution_count": null,
      "outputs": []
    },
    {
      "cell_type": "markdown",
      "source": [
        "4)Write a Python program to print the even numbers from a given list.\n",
        "\n",
        "Sample List : [1, 2, 3, 4, 5, 6, 7, 8, 9]\n",
        "\n",
        "Expected Result : [2, 4, 6, 8]\n"
      ],
      "metadata": {
        "id": "P2i2bBwIRsfQ"
      }
    },
    {
      "cell_type": "code",
      "source": [
        "# WRITE YOUR CODE HERE"
      ],
      "metadata": {
        "id": "32Rk_UCp_pAT"
      },
      "execution_count": 1,
      "outputs": []
    },
    {
      "cell_type": "markdown",
      "source": [
        "5) Write a Python function to check whether a string is a pangram or not.\n",
        "\n",
        "Note : Pangrams are words or sentences containing every letter of the alphabet at least once.\n",
        "\n",
        "For example : \"The quick brown fox jumps over the lazy dog\""
      ],
      "metadata": {
        "id": "kaTTpignRsh7"
      }
    },
    {
      "cell_type": "code",
      "source": [
        "# WRITE YOUR CODE HERE"
      ],
      "metadata": {
        "id": "EHEntu3P_5s8"
      },
      "execution_count": 2,
      "outputs": []
    },
    {
      "cell_type": "markdown",
      "source": [],
      "metadata": {
        "id": "3InqavJfRslk"
      }
    }
  ]
}