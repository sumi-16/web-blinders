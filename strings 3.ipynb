{
  "cells": [
    {
      "cell_type": "markdown",
      "metadata": {
        "id": "q8RkYTES1QUW"
      },
      "source": [
        "1.Write a Python program to count the number of vowels in a string.\n",
        "\n",
        "input : hasdfgeuionhjl"
      ]
    },
    {
      "cell_type": "code",
      "execution_count": 1,
      "metadata": {
        "id": "UHi6ezjV1X0s"
      },
      "outputs": [
        {
          "name": "stdout",
          "output_type": "stream",
          "text": [
            "5\n"
          ]
        }
      ],
      "source": [
        "a=\"hasdfgeuionhjl\"\n",
        "c=0\n",
        "vowels=[]\n",
        "for i in a:\n",
        "    if i=='a' or i=='e'or i=='i' or i=='o'or i=='u' or i=='A'or i=='E' or i=='I' or i=='O' or i=='U':\n",
        "        c+=1\n",
        "print(c)"
      ]
    },
    {
      "cell_type": "markdown",
      "metadata": {
        "id": "v7GBEK161QWy"
      },
      "source": [
        "2.Write a Python program to count the occurrences of each word in a sentence.\n",
        "\n",
        "input : hi hello hi and and hi more and more programming"
      ]
    },
    {
      "cell_type": "code",
      "execution_count": 2,
      "metadata": {
        "id": "R-UzDybK1uZo"
      },
      "outputs": [
        {
          "name": "stdout",
          "output_type": "stream",
          "text": [
            "hi 3\n",
            "hello 1\n",
            "and 2\n",
            "programming 1\n",
            "more 2\n"
          ]
        }
      ],
      "source": [
        "a=\"hi hello hi and hi more and more programming\"\n",
        "b=a.split(\" \")\n",
        "x=set(b)\n",
        "for i in x:\n",
        "    print(i,b.count(i))"
      ]
    },
    {
      "cell_type": "markdown",
      "metadata": {
        "id": "evCcw-0H1QY9"
      },
      "source": [
        "3.In python how can you differentiate strings and lists. Give atleast 5 different comparisons between them."
      ]
    },
    {
      "cell_type": "markdown",
      "metadata": {
        "id": "OfiTI0pv1QbU"
      },
      "source": [
        "Answer:"
      ]
    },
    {
      "cell_type": "code",
      "execution_count": null,
      "metadata": {},
      "outputs": [],
      "source": [
        "1.Lists are mutable while strings are immutable. 2.Lists contains the elements of different data types while strings only contain characters. 3.Lists can be modified where as strings cannot be modified (append,insert and remove functions cannot be applied to strings). 4.Both support slicing, but lists allow changes after slicing. 5.Concatenation creates a new string whereas in lists it modifies or creates new list."
      ]
    },
    {
      "cell_type": "markdown",
      "metadata": {
        "id": "riR1PWxG1Qdq"
      },
      "source": [
        "4.Write a string for your own of approximately 40 in length and perform any 5 different string operations on that."
      ]
    },
    {
      "cell_type": "code",
      "execution_count": 3,
      "metadata": {
        "id": "3bHyrDS12e8i"
      },
      "outputs": [
        {
          "name": "stdout",
          "output_type": "stream",
          "text": [
            "115\n",
            "EVERYBODY WANTS TO BE FAMOUS, BUT NOBODY WANTS TO DO THE WORK. I LIVE BY THAT. YOU GRIND HARD SO YOU CAN PLAY HARD.\n",
            "everybody wants to be famous, but nobody wants to do the work. i live by that. you grind hard so you can play hard.\n",
            "Everybody wants to be famous, but nobody wants to do the work. i live by that. you grind hard so you can play hard.\n",
            "Everybody Wants To Be Famous, But Nobody Wants To Do The Work. I Live By That. You Grind Hard So You Can Play Hard.\n"
          ]
        }
      ],
      "source": [
        "a=\"Everybody wants to be famous, but nobody wants to do the work. I live by that. You grind hard so you can play hard.\" \n",
        "print(len(a))\n",
        "print(a.upper())\n",
        "print(a.lower())\n",
        "print(a.capitalize())\n",
        "print(a.title())"
      ]
    },
    {
      "cell_type": "markdown",
      "metadata": {
        "id": "bbUm7VVN1Qfu"
      },
      "source": [
        "5.Explain the concatination in strings with a neat example."
      ]
    },
    {
      "cell_type": "code",
      "execution_count": 4,
      "metadata": {
        "id": "y9292Q452tF0"
      },
      "outputs": [
        {
          "data": {
            "text/plain": [
              "'hihello'"
            ]
          },
          "execution_count": 4,
          "metadata": {},
          "output_type": "execute_result"
        }
      ],
      "source": [
        "a=\"hi\"\n",
        "b=\"hello\"\n",
        "a+b"
      ]
    },
    {
      "cell_type": "code",
      "execution_count": null,
      "metadata": {
        "id": "vnMNtJgq2xuG"
      },
      "outputs": [],
      "source": []
    }
  ],
  "metadata": {
    "colab": {
      "provenance": []
    },
    "kernelspec": {
      "display_name": "base",
      "language": "python",
      "name": "python3"
    },
    "language_info": {
      "codemirror_mode": {
        "name": "ipython",
        "version": 3
      },
      "file_extension": ".py",
      "mimetype": "text/x-python",
      "name": "python",
      "nbconvert_exporter": "python",
      "pygments_lexer": "ipython3",
      "version": "3.12.7"
    }
  },
  "nbformat": 4,
  "nbformat_minor": 0
}
